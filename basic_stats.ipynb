{
 "cells": [
  {
   "cell_type": "markdown",
   "metadata": {},
   "source": [
    "Q1. What is Statistics?"
   ]
  },
  {
   "cell_type": "code",
   "execution_count": 1,
   "metadata": {},
   "outputs": [
    {
     "name": "stdout",
     "output_type": "stream",
     "text": [
      "Statistics is the study of the collection, analysis, interpretation, presentation, and\n",
      "organization of data. In other words, it is a mathematical discipline to collect, summarize data. \n",
      "Also, we can say that statistics is a branch of applied mathematics.\n"
     ]
    }
   ],
   "source": [
    "ans1='''Statistics is the study of the collection, analysis, interpretation, presentation, and\n",
    "organization of data. In other words, it is a mathematical discipline to collect, summarize data. \n",
    "Also, we can say that statistics is a branch of applied mathematics.'''\n",
    "print(ans1)"
   ]
  },
  {
   "cell_type": "markdown",
   "metadata": {},
   "source": [
    "Q2. Define the different types of statistics and give an example of when each type might be used."
   ]
  },
  {
   "cell_type": "code",
   "execution_count": 3,
   "metadata": {},
   "outputs": [
    {
     "name": "stdout",
     "output_type": "stream",
     "text": [
      "Statistics have majorly categorised into two types:\n",
      "\n",
      "Descriptive statistics\n",
      "In this type of statistics, the data is summarised through the given observations. \n",
      "The summarisation is one from a sample of population using parameters such as the mean or \n",
      "standard deviation.\n",
      "Descriptive statistics is a way to organise, represent and describe a collection of data using \n",
      "tables, graphs, and summary measures. \n",
      "For example, the collection of people in a city using the internet or using Television.\n",
      "\n",
      "Inferential Statistics\n",
      "This type of statistics is used to interpret the meaning of Descriptive statistics. That means once\n",
      "the data has been collected, analysed and summarised then we use these stats to describe the meaning\n",
      "of the collected data. Or we can say, it is used to draw conclusions from the data that depends on\n",
      "random variations such as observational errors, sampling variation, etc.\n",
      "Inferential Statistics is a method that allows us to use information collected from a sample to make\n",
      "decisions, predictions or inferences from a population. It grants us permission to give statements\n",
      "that goes beyond the available data or information. \n",
      "For example, deriving estimates from hypothetical research.\n"
     ]
    }
   ],
   "source": [
    "ans2='''Statistics have majorly categorised into two types:\n",
    "\n",
    "Descriptive statistics\n",
    "In this type of statistics, the data is summarised through the given observations. \n",
    "The summarisation is one from a sample of population using parameters such as the mean or \n",
    "standard deviation.\n",
    "Descriptive statistics is a way to organise, represent and describe a collection of data using \n",
    "tables, graphs, and summary measures. \n",
    "For example, the collection of people in a city using the internet or using Television.\n",
    "\n",
    "Inferential Statistics\n",
    "This type of statistics is used to interpret the meaning of Descriptive statistics. That means once\n",
    "the data has been collected, analysed and summarised then we use these stats to describe the meaning\n",
    "of the collected data. Or we can say, it is used to draw conclusions from the data that depends on\n",
    "random variations such as observational errors, sampling variation, etc.\n",
    "Inferential Statistics is a method that allows us to use information collected from a sample to make\n",
    "decisions, predictions or inferences from a population. It grants us permission to give statements\n",
    "that goes beyond the available data or information. \n",
    "For example, deriving estimates from hypothetical research.'''\n",
    "print(ans2)"
   ]
  },
  {
   "cell_type": "markdown",
   "metadata": {},
   "source": [
    "Q3. What are the different types of data and how do they differ from each other? Provide an example of\n",
    "each type of data."
   ]
  },
  {
   "cell_type": "code",
   "execution_count": 5,
   "metadata": {},
   "outputs": [
    {
     "name": "stdout",
     "output_type": "stream",
     "text": [
      "The data is classified into four categories:\n",
      "\n",
      "Nominal Qualitative data- Nominal Data is used to label variables without any order or quantitative value.\n",
      "The color of hair can be considered nominal data, as one color can not be compared with another\n",
      "color.\n",
      "\n",
      "Ordinal Qualitative data - Ordinal data have natural ordering where a number is present in some kind of order by\n",
      "their position on the scale. These data are used for observation like customer satisfaction,\n",
      "happiness, etc., but we can’t do any arithmetical tasks on them.\n",
      "\n",
      "Discrete Quantitative data - The term discrete means distinct or separate. The discrete data contain the values \n",
      "that fall under integers or whole numbers. The total number of students in a class is an example of\n",
      "discrete data. These data can’t be broken into decimal or fraction values.\n",
      "\n",
      "Continuous Quantitative data- Continuous data are in the form of fractional numbers. It can be the version of an\n",
      "android phone, the height of a person, the length of an object, etc. Continuous data represents\n",
      "information that can be divided into smaller levels. The continuous variable can take any value\n",
      "within a range. \n"
     ]
    }
   ],
   "source": [
    "ans3=\"\"\"The data is classified into four categories:\n",
    "\n",
    "Nominal Qualitative data- Nominal Data is used to label variables without any order or quantitative value.\n",
    "The color of hair can be considered nominal data, as one color can not be compared with another\n",
    "color.\n",
    "\n",
    "Ordinal Qualitative data - Ordinal data have natural ordering where a number is present in some kind of order by\n",
    "their position on the scale. These data are used for observation like customer satisfaction,\n",
    "happiness, etc., but we can’t do any arithmetical tasks on them.\n",
    "\n",
    "Discrete Quantitative data - The term discrete means distinct or separate. The discrete data contain the values \n",
    "that fall under integers or whole numbers. The total number of students in a class is an example of\n",
    "discrete data. These data can’t be broken into decimal or fraction values.\n",
    "\n",
    "Continuous Quantitative data- Continuous data are in the form of fractional numbers. It can be the version of an\n",
    "android phone, the height of a person, the length of an object, etc. Continuous data represents\n",
    "information that can be divided into smaller levels. The continuous variable can take any value\n",
    "within a range. \"\"\"\n",
    "\n",
    "print(ans3)"
   ]
  },
  {
   "cell_type": "markdown",
   "metadata": {},
   "source": [
    "Q4. Categorise the following datasets with respect to quantitative and qualitative data types:"
   ]
  },
  {
   "cell_type": "code",
   "execution_count": 9,
   "metadata": {},
   "outputs": [
    {
     "name": "stdout",
     "output_type": "stream",
     "text": [
      "(i) Grading in exam: A+, A, B+, B, C+, C, D, E = Ordinal Qualitative data\n"
     ]
    }
   ],
   "source": [
    "a1='(i) Grading in exam: A+, A, B+, B, C+, C, D, E = Ordinal Qualitative data'\n",
    "print(a1)"
   ]
  },
  {
   "cell_type": "code",
   "execution_count": 8,
   "metadata": {},
   "outputs": [
    {
     "name": "stdout",
     "output_type": "stream",
     "text": [
      "(ii) Colour of mangoes: yellow, green, orange, red = Nominal Qualitative data\n"
     ]
    }
   ],
   "source": [
    "a2='(ii) Colour of mangoes: yellow, green, orange, red = Nominal Qualitative data'\n",
    "print(a2)"
   ]
  },
  {
   "cell_type": "code",
   "execution_count": 12,
   "metadata": {},
   "outputs": [
    {
     "name": "stdout",
     "output_type": "stream",
     "text": [
      "(iii)Height data of a class: [178.9, 179.5, 176, 178.3, 175.8,..] = Continuous Quantitative data\n"
     ]
    }
   ],
   "source": [
    "a3='(iii)Height data of a class: [178.9, 179.5, 176, 178.3, 175.8,..] = Continuous Quantitative data'\n",
    "print(a3)"
   ]
  },
  {
   "cell_type": "code",
   "execution_count": 11,
   "metadata": {},
   "outputs": [
    {
     "name": "stdout",
     "output_type": "stream",
     "text": [
      "(iv) Number of mangoes exported by a farm: [500, 600, 478, 672, ...]=Discrete Quantitative data\n"
     ]
    }
   ],
   "source": [
    "a4='(iv) Number of mangoes exported by a farm: [500, 600, 478, 672, ...]=Discrete Quantitative data'\n",
    "print(a4)"
   ]
  },
  {
   "cell_type": "markdown",
   "metadata": {},
   "source": [
    "Q5. Explain the concept of levels of measurement and give an example of a variable for each level."
   ]
  },
  {
   "cell_type": "code",
   "execution_count": 13,
   "metadata": {},
   "outputs": [
    {
     "name": "stdout",
     "output_type": "stream",
     "text": [
      "Levels of measurement, also called scales of measurement, tell you how precisely variables\n",
      "are recorded. In scientific research, a variable is anything that can take on different values\n",
      "across your data set (e.g., height or test scores).\n",
      "\n",
      "There are 4 levels of measurement:\n",
      "\n",
      "Nominal: the data can only be categorized for ex City of birth ,Gender ,Ethnicity etc.\n",
      "\n",
      "Ordinal: the data can be categorized and ranked for ex Top 5 Olympic medallists Language ability\n",
      "(e.g., beginner, intermediate, fluent ) etc .\n",
      "\n",
      "Interval: the data can be categorized, ranked, and evenly spaced for ex Test scores\n",
      "(e.g., IQ or exams) Personality inventories, Temperature in Fahrenheit or Celsius etc.\n",
      "\n",
      "Ratio: the data can be categorized, ranked, evenly spaced, and has a natural zero. for ex Height\n",
      "Age , Weight etc.\n",
      "\n"
     ]
    }
   ],
   "source": [
    "ans5='''Levels of measurement, also called scales of measurement, tell you how precisely variables\n",
    "are recorded. In scientific research, a variable is anything that can take on different values\n",
    "across your data set (e.g., height or test scores).\n",
    "\n",
    "There are 4 levels of measurement:\n",
    "\n",
    "Nominal: the data can only be categorized for ex City of birth ,Gender ,Ethnicity etc.\n",
    "\n",
    "Ordinal: the data can be categorized and ranked for ex Top 5 Olympic medallists Language ability\n",
    "(e.g., beginner, intermediate, fluent ) etc .\n",
    "\n",
    "Interval: the data can be categorized, ranked, and evenly spaced for ex Test scores\n",
    "(e.g., IQ or exams) Personality inventories, Temperature in Fahrenheit or Celsius etc.\n",
    "\n",
    "Ratio: the data can be categorized, ranked, evenly spaced, and has a natural zero. for ex Height\n",
    "Age , Weight etc.\n",
    "'''\n",
    "print(ans5)"
   ]
  },
  {
   "cell_type": "markdown",
   "metadata": {},
   "source": [
    "Q6. Why is it important to understand the level of measurement when analyzing data? Provide an\n",
    "example to illustrate your answer."
   ]
  },
  {
   "cell_type": "code",
   "execution_count": 14,
   "metadata": {},
   "outputs": [
    {
     "name": "stdout",
     "output_type": "stream",
     "text": [
      "The level at which you measure a variable determines how you can analyze your data.\n",
      "\n",
      "The different levels limit which descriptive statistics you can use to get an overall summary of\n",
      "your data, and which type of inferential statistics you can perform on your data to support or\n",
      "refute your hypothesis.\n",
      "In many cases, your variables can be measured at different levels, so you have to choose the level\n",
      "of measurement you will use before data collection begins.\n",
      "Example of a variable at 2 levels of measurement\n",
      "You can measure the variable of income at an ordinal or ratio level.\n",
      "Ordinal level: You create brackets of income ranges: $0–$19,999, $20,000-$39,999, and\n",
      "$40,000-$59,999. You ask participants to select the bracket that represents their annual income.\n",
      "The brackets are coded with numbers from 1- 3.\n",
      "\n"
     ]
    }
   ],
   "source": [
    "ans6='''The level at which you measure a variable determines how you can analyze your data.\n",
    "\n",
    "The different levels limit which descriptive statistics you can use to get an overall summary of\n",
    "your data, and which type of inferential statistics you can perform on your data to support or\n",
    "refute your hypothesis.\n",
    "In many cases, your variables can be measured at different levels, so you have to choose the level\n",
    "of measurement you will use before data collection begins.\n",
    "Example of a variable at 2 levels of measurement\n",
    "You can measure the variable of income at an ordinal or ratio level.\n",
    "Ordinal level: You create brackets of income ranges: $0–$19,999, $20,000-$39,999, and\n",
    "$40,000-$59,999. You ask participants to select the bracket that represents their annual income.\n",
    "The brackets are coded with numbers from 1- 3.\n",
    "'''\n",
    "print(ans6)"
   ]
  },
  {
   "cell_type": "markdown",
   "metadata": {},
   "source": [
    "Q7. How nominal data type is different from ordinal data type."
   ]
  },
  {
   "cell_type": "code",
   "execution_count": 15,
   "metadata": {},
   "outputs": [
    {
     "name": "stdout",
     "output_type": "stream",
     "text": [
      "Nominal data is a group of non-parametric variables, whereas Ordinal data is a group of \n",
      "non-parametric ordered variables.\n",
      "\n",
      "Ordinal data is analyzed by mode, median, quartiles, and percentile, whereas nominal data is\n",
      "analyzed by grouping variables into categories and calculating the distribution mode.\n",
      "\n",
      "Nominal data are categorical, whereas Ordinal data are both categorical and quantitative.\n",
      "\n",
      "Both nominal and ordinal data can be analyzed using percentage and mode.\n",
      "\n"
     ]
    }
   ],
   "source": [
    "ans7='''Nominal data is a group of non-parametric variables, whereas Ordinal data is a group of \n",
    "non-parametric ordered variables.\n",
    "\n",
    "Ordinal data is analyzed by mode, median, quartiles, and percentile, whereas nominal data is\n",
    "analyzed by grouping variables into categories and calculating the distribution mode.\n",
    "\n",
    "Nominal data are categorical, whereas Ordinal data are both categorical and quantitative.\n",
    "\n",
    "Both nominal and ordinal data can be analyzed using percentage and mode.\n",
    "'''\n",
    "print(ans7)"
   ]
  },
  {
   "cell_type": "markdown",
   "metadata": {},
   "source": [
    "Q8. Which type of plot can be used to display data in terms of range?"
   ]
  },
  {
   "cell_type": "code",
   "execution_count": 16,
   "metadata": {},
   "outputs": [
    {
     "name": "stdout",
     "output_type": "stream",
     "text": [
      "Scatterplots. In scatterplots, you can find the range of two variables at one time.\n"
     ]
    }
   ],
   "source": [
    "ans8= 'Scatterplots. In scatterplots, you can find the range of two variables at one time.'\n",
    "print(ans8)"
   ]
  },
  {
   "cell_type": "markdown",
   "metadata": {},
   "source": [
    "Q9. Describe the difference between descriptive and inferential statistics. Give an example of each\n",
    "type of statistics and explain how they are used."
   ]
  },
  {
   "cell_type": "code",
   "execution_count": 17,
   "metadata": {},
   "outputs": [
    {
     "name": "stdout",
     "output_type": "stream",
     "text": [
      "\n",
      "Descriptive statistics allow you to describe a data set, while inferential statistics allow\n",
      "you to make inferences based on a data set.\n",
      "\n",
      "Descriptive statistics\n",
      "Using descriptive statistics, you can report characteristics of your data:\n",
      "The distribution concerns the frequency of each value.\n",
      "The central tendency concerns the averages of the values.\n",
      "The variability concerns how spread out the values are.\n",
      "\n",
      "In descriptive statistics, there is no uncertainty- the statistics precisely describe the data that\n",
      "you collected. If you collect data from an entire population, you can directly compare these\n",
      "descriptive statistics to those from other populations.\n",
      "\n",
      "Example: Descriptive statistics\n",
      "You collect data on the SAT scores of all 11th graders in a school for three years.\n",
      "You can use descriptive statistics to get a quick overview of the school's scores in those years.\n",
      "You can then directly compare the mean SAT score with the mean scores of other schools.\n",
      "\n",
      "Inferential statistics\n",
      "\n",
      "Most of the time, you can only acquire data from samples, because it is too difficult or expensive\n",
      "to collect data from the whole population that you're interested in.\n",
      "\n",
      "While descriptive statistics can only summarize a sample's characteristics, inferential statistics\n",
      "use your sample to make reasonable guesses about the larger population.\n",
      "\n",
      "With inferential statistics, it’s important to use random and unbiased sampling methods. If your\n",
      "sample isn’t representative of your population, then you can’t make valid statistical inferences or\n",
      "generalize.\n",
      "\n",
      "Example: Inferential statistics\n",
      "You randomly select a sample of 11th graders in your state and collect data on their SAT scores and\n",
      "other characteristics. You can use inferential statistics to make estimates and test hypotheses\n",
      "about the whole population of 11th graders in the state based on your sample data.\n",
      "\n"
     ]
    }
   ],
   "source": [
    "ans9='''\n",
    "Descriptive statistics allow you to describe a data set, while inferential statistics allow\n",
    "you to make inferences based on a data set.\n",
    "\n",
    "Descriptive statistics\n",
    "Using descriptive statistics, you can report characteristics of your data:\n",
    "The distribution concerns the frequency of each value.\n",
    "The central tendency concerns the averages of the values.\n",
    "The variability concerns how spread out the values are.\n",
    "\n",
    "In descriptive statistics, there is no uncertainty- the statistics precisely describe the data that\n",
    "you collected. If you collect data from an entire population, you can directly compare these\n",
    "descriptive statistics to those from other populations.\n",
    "\n",
    "Example: Descriptive statistics\n",
    "You collect data on the SAT scores of all 11th graders in a school for three years.\n",
    "You can use descriptive statistics to get a quick overview of the school's scores in those years.\n",
    "You can then directly compare the mean SAT score with the mean scores of other schools.\n",
    "\n",
    "Inferential statistics\n",
    "\n",
    "Most of the time, you can only acquire data from samples, because it is too difficult or expensive\n",
    "to collect data from the whole population that you're interested in.\n",
    "\n",
    "While descriptive statistics can only summarize a sample's characteristics, inferential statistics\n",
    "use your sample to make reasonable guesses about the larger population.\n",
    "\n",
    "With inferential statistics, it’s important to use random and unbiased sampling methods. If your\n",
    "sample isn’t representative of your population, then you can’t make valid statistical inferences or\n",
    "generalize.\n",
    "\n",
    "Example: Inferential statistics\n",
    "You randomly select a sample of 11th graders in your state and collect data on their SAT scores and\n",
    "other characteristics. You can use inferential statistics to make estimates and test hypotheses\n",
    "about the whole population of 11th graders in the state based on your sample data.\n",
    "'''\n",
    "print(ans9)"
   ]
  },
  {
   "cell_type": "markdown",
   "metadata": {},
   "source": [
    "Q10. What are some common measures of central tendency and variability used in statistics? Explain\n",
    "how each measure can be used to describe a dataset."
   ]
  },
  {
   "cell_type": "code",
   "execution_count": 19,
   "metadata": {},
   "outputs": [
    {
     "name": "stdout",
     "output_type": "stream",
     "text": [
      "The central tendency is stated as the statistical measure that represents the single value\n",
      "of the entire distribution or a dataset. It aims to provide an accurate description of the entire\n",
      "data in the distribution.\n",
      "\n",
      "Measures of Central Tendency\n",
      "The central tendency of the dataset can be found out using the three important measures namely\n",
      "mean, median and mode.\n",
      "\n",
      "Mean\n",
      "The mean represents the average value of the dataset. It can be calculated as the sum of all the\n",
      "values in the dataset divided by the number of values. In general, it is considered as the\n",
      "arithmetic mean.\n",
      "\n",
      "Median\n",
      "Median is the middle value of the dataset in which the dataset is arranged in the ascending order\n",
      "or in descending order. When the dataset contains an even number of values, then the median value of\n",
      "the dataset can be found by taking the mean of the middle two values.\n",
      "\n",
      "Mode\n",
      "The mode represents the frequently occurring value in the dataset. Sometimes the dataset may\n",
      "contain multiple modes and in some cases, it does not contain any mode at all.\n",
      "\n"
     ]
    }
   ],
   "source": [
    "ans10='''The central tendency is stated as the statistical measure that represents the single value\n",
    "of the entire distribution or a dataset. It aims to provide an accurate description of the entire\n",
    "data in the distribution.\n",
    "\n",
    "Measures of Central Tendency\n",
    "The central tendency of the dataset can be found out using the three important measures namely\n",
    "mean, median and mode.\n",
    "\n",
    "Mean\n",
    "The mean represents the average value of the dataset. It can be calculated as the sum of all the\n",
    "values in the dataset divided by the number of values. In general, it is considered as the\n",
    "arithmetic mean.\n",
    "\n",
    "Median\n",
    "Median is the middle value of the dataset in which the dataset is arranged in the ascending order\n",
    "or in descending order. When the dataset contains an even number of values, then the median value of\n",
    "the dataset can be found by taking the mean of the middle two values.\n",
    "\n",
    "Mode\n",
    "The mode represents the frequently occurring value in the dataset. Sometimes the dataset may\n",
    "contain multiple modes and in some cases, it does not contain any mode at all.\n",
    "'''\n",
    "print(ans10)"
   ]
  },
  {
   "cell_type": "code",
   "execution_count": null,
   "metadata": {},
   "outputs": [],
   "source": []
  }
 ],
 "metadata": {
  "kernelspec": {
   "display_name": "base",
   "language": "python",
   "name": "python3"
  },
  "language_info": {
   "codemirror_mode": {
    "name": "ipython",
    "version": 3
   },
   "file_extension": ".py",
   "mimetype": "text/x-python",
   "name": "python",
   "nbconvert_exporter": "python",
   "pygments_lexer": "ipython3",
   "version": "3.9.13"
  },
  "orig_nbformat": 4
 },
 "nbformat": 4,
 "nbformat_minor": 2
}
